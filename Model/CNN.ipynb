{
 "cells": [
  {
   "cell_type": "code",
   "execution_count": 2,
   "metadata": {},
   "outputs": [
    {
     "name": "stdout",
     "output_type": "stream",
     "text": [
      "['.ipynb_checkpoints', 'cnn.csv', 'CNN.h5', 'CNN.ipynb', 'Doodle_Data', 'Doodle_Recognition_new.ipynb', 'gs.png', 'mobilenet.csv', 'MobileNet.h5', 'MobileNetRGB.ipynb', 'resnet.csv', 'resnet.ipynb', 'resnet50v2.h5', 'sample_submission.csv', 'Screenshot', 'test_simplified.csv', 'vgg16.ipynb']\n"
     ]
    }
   ],
   "source": [
    "import warnings\n",
    "warnings.filterwarnings('ignore')\n",
    "\n",
    "import ast\n",
    "import math\n",
    "import pandas as pd\n",
    "import glob\n",
    "import numpy as np\n",
    "import cv2\n",
    "\n",
    "from simplification.cutil import simplify_coords\n",
    "\n",
    "import matplotlib.pyplot as plt\n",
    "import matplotlib.style as style\n",
    "\n",
    "%matplotlib inline\n",
    "%config InlineBackend.figure_format = 'retina'\n",
    "%matplotlib inline\n",
    "from IPython.core.interactiveshell import InteractiveShell\n",
    "InteractiveShell.ast_node_interactivity = \"all\"\n",
    "import json\n",
    "import os\n",
    "import datetime as dt\n",
    "from tqdm import tqdm\n",
    "import pandas as pd\n",
    "import numpy as np\n",
    "from glob import glob\n",
    "import re\n",
    "import ast\n",
    "import cv2\n",
    "import csv\n",
    "import time\n",
    "import ast\n",
    "import urllib\n",
    "from PIL import Image, ImageDraw\n",
    "from tqdm import tqdm\n",
    "from dask import bag, threaded\n",
    "import matplotlib\n",
    "import matplotlib.pyplot as pltc\n",
    "import numpy as np\n",
    "import pandas as pd \n",
    "import tensorflow as tf\n",
    "import matplotlib.pyplot as plt\n",
    "from dask import bag, threaded\n",
    "from tensorflow import keras\n",
    "from tensorflow.keras.layers import Conv2D, MaxPooling2D\n",
    "from tensorflow.keras.layers import Dense, Dropout, Flatten, Activation\n",
    "from tensorflow.keras.metrics import categorical_accuracy, top_k_categorical_accuracy, categorical_crossentropy\n",
    "from tensorflow.keras.models import Sequential\n",
    "from tensorflow.keras.callbacks import EarlyStopping, ReduceLROnPlateau, ModelCheckpoint\n",
    "from tensorflow.keras.optimizers import Adam\n",
    "from tensorflow.keras.applications.nasnet import NASNetMobile\n",
    "from tensorflow.keras.preprocessing import image\n",
    "from tensorflow.keras.models import Model\n",
    "from tensorflow.keras.layers import Dense, GlobalAveragePooling2D\n",
    "from tensorflow.keras import backend as K\n",
    "from tensorflow.keras.applications import MobileNet\n",
    "from keras.models import Sequential,Input,Model\n",
    "from keras.layers import Dense, Dropout, Flatten\n",
    "from keras.layers import Conv2D, MaxPooling2D\n",
    "from keras.layers.normalization import BatchNormalization\n",
    "from keras.layers.advanced_activations import LeakyReLU\n",
    "import os\n",
    "\n",
    "Base_Size = 256\n",
    "data_Directory = 'C:/Users/wangy/OneDrive/Desktop/Doodle/Doodle_Data/'\n",
    "input_Directory = 'C:/Users/wangy/OneDrive/Desktop/Doodle/Prediction/'\n",
    "sub_Directory = 'D:/APM/'\n",
    "num_csv = 100\n",
    "num_class = 340\n",
    "size = 64\n",
    "steps = 2000\n",
    "batchsize = 256\n",
    "epochs = 150\n",
    "\n",
    "\n",
    "print(os.listdir(\"C:/Users/wangy/OneDrive/Desktop/Doodle\"))"
   ]
  },
  {
   "cell_type": "code",
   "execution_count": 3,
   "metadata": {},
   "outputs": [],
   "source": [
    "#Test\n",
    "def draw_cv2(raw_strokes, size=size, lw=6):\n",
    "    img = np.zeros((Base_Size, Base_Size))\n",
    "    for stroke in raw_strokes:\n",
    "        for i in range(len(stroke[0]) - 1):\n",
    "            img = cv2.line(img, (stroke[0][i], stroke[1][i]), (stroke[0][i + 1], stroke[1][i + 1]), 255, lw)\n",
    "    return (cv2.resize(img, (size, size))/ 255.)\n",
    "\n",
    "#Data Augmentation\n",
    "def image_generator(size, batchsize, ks, lw=6):\n",
    "    while True:\n",
    "        for k in np.random.permutation(ks):\n",
    "            filename = os.path.join(data_Directory, 'train_k{}.csv.gz'.format(k))\n",
    "            for df in pd.read_csv(filename, chunksize=batchsize):\n",
    "                x = np.zeros((len(df), size, size))\n",
    "                df['drawing'] = [ast.literal_eval(pts) for pts in df['drawing'].values]   \n",
    "                df['drawing'] = df['drawing'].apply(draw_cv2)\n",
    "                x = np.vstack([a for a in df['drawing']]).reshape((len(df),size,size,1))\n",
    "                y = tf.keras.utils.to_categorical(df.y, num_classes=num_class)\n",
    "                yield x, y\n",
    "                  \n",
    "\n",
    "def df_to_image_array(df, size=size, lw=6):\n",
    "    df['drawing'] = [ast.literal_eval(pts) for pts in df['drawing'].values]\n",
    "    x = np.zeros((len(df), size, size))\n",
    "    df['drawing'] = df['drawing'].apply(draw_cv2)\n",
    "    x = np.vstack([a for a in df['drawing']]).reshape((len(df),size,size,1))\n",
    "    return x"
   ]
  },
  {
   "cell_type": "code",
   "execution_count": 4,
   "metadata": {},
   "outputs": [
    {
     "name": "stdout",
     "output_type": "stream",
     "text": [
      "(30000, 64, 64, 1) (30000, 340)\n",
      "Validation array memory 0.92 GB\n"
     ]
    }
   ],
   "source": [
    "valid_df = pd.read_csv(os.path.join(data_Directory, 'train_k{}.csv.gz'.format(num_csv - 1)), nrows=30000)\n",
    "x_valid = df_to_image_array(valid_df, size)\n",
    "y_valid = tf.keras.utils.to_categorical(valid_df.y, num_classes=num_class)\n",
    "print(x_valid.shape, y_valid.shape)"
   ]
  },
  {
   "cell_type": "code",
   "execution_count": 5,
   "metadata": {},
   "outputs": [],
   "source": [
    "train_datagen = image_generator(size=size, batchsize=batchsize, ks=range(num_csv - 1))"
   ]
  },
  {
   "cell_type": "code",
   "execution_count": 6,
   "metadata": {},
   "outputs": [],
   "source": [
    "def top_3_accuracy(y_true, y_pred):\n",
    "    return top_k_categorical_accuracy(y_true, y_pred, k=3)"
   ]
  },
  {
   "cell_type": "code",
   "execution_count": 8,
   "metadata": {},
   "outputs": [],
   "source": [
    "num_classes = num_class\n",
    "\n",
    "model = Sequential()\n",
    "model.add(Conv2D(32, kernel_size=(3, 3),activation='relu',input_shape=(size,size,1),padding='same'))\n",
    "#model.add(LeakyReLU(alpha=0.1))\n",
    "model.add(MaxPooling2D((2, 2),padding='same'))\n",
    "model.add(Conv2D(64, (3, 3), activation='relu',padding='same'))\n",
    "#model.add(LeakyReLU(alpha=0.1))\n",
    "model.add(MaxPooling2D(pool_size=(2, 2),padding='same'))\n",
    "model.add(Conv2D(128, (3, 3), activation='relu',padding='same'))\n",
    "#model.add(LeakyReLU(alpha=0.1))                  \n",
    "model.add(MaxPooling2D(pool_size=(2, 2),padding='same'))\n",
    "model.add(Flatten())\n",
    "model.add(Dense(128, activation='linear'))\n",
    "model.add(LeakyReLU(alpha=0.1))                  \n",
    "model.add(Dense(num_classes, activation='softmax'))"
   ]
  },
  {
   "cell_type": "code",
   "execution_count": 9,
   "metadata": {},
   "outputs": [
    {
     "name": "stdout",
     "output_type": "stream",
     "text": [
      "Model: \"sequential\"\n",
      "_________________________________________________________________\n",
      "Layer (type)                 Output Shape              Param #   \n",
      "=================================================================\n",
      "conv2d (Conv2D)              (None, 64, 64, 32)        320       \n",
      "_________________________________________________________________\n",
      "max_pooling2d (MaxPooling2D) (None, 32, 32, 32)        0         \n",
      "_________________________________________________________________\n",
      "conv2d_1 (Conv2D)            (None, 32, 32, 64)        18496     \n",
      "_________________________________________________________________\n",
      "max_pooling2d_1 (MaxPooling2 (None, 16, 16, 64)        0         \n",
      "_________________________________________________________________\n",
      "conv2d_2 (Conv2D)            (None, 16, 16, 128)       73856     \n",
      "_________________________________________________________________\n",
      "max_pooling2d_2 (MaxPooling2 (None, 8, 8, 128)         0         \n",
      "_________________________________________________________________\n",
      "flatten (Flatten)            (None, 8192)              0         \n",
      "_________________________________________________________________\n",
      "dense (Dense)                (None, 128)               1048704   \n",
      "_________________________________________________________________\n",
      "leaky_re_lu (LeakyReLU)      (None, 128)               0         \n",
      "_________________________________________________________________\n",
      "dense_1 (Dense)              (None, 340)               43860     \n",
      "=================================================================\n",
      "Total params: 1,185,236\n",
      "Trainable params: 1,185,236\n",
      "Non-trainable params: 0\n",
      "_________________________________________________________________\n"
     ]
    }
   ],
   "source": [
    "model.compile(loss=keras.losses.categorical_crossentropy, optimizer=keras.optimizers.Adam(lr=0.001),\n",
    "                      metrics=[categorical_crossentropy, categorical_accuracy, top_3_accuracy])\n",
    "\n",
    "model.summary()"
   ]
  },
  {
   "cell_type": "code",
   "execution_count": 10,
   "metadata": {},
   "outputs": [
    {
     "name": "stdout",
     "output_type": "stream",
     "text": [
      "Epoch 1/150\n",
      "   2/2000 [..............................] - ETA: 54s - loss: 5.8272 - categorical_crossentropy: 5.8272 - categorical_accuracy: 0.0039 - top_3_accuracy: 0.0117WARNING:tensorflow:Callbacks method `on_train_batch_end` is slow compared to the batch time (batch time: 0.0084s vs `on_train_batch_end` time: 0.0461s). Check your callbacks.\n",
      "2000/2000 [==============================] - 238s 119ms/step - loss: 2.5361 - categorical_crossentropy: 2.5361 - categorical_accuracy: 0.4452 - top_3_accuracy: 0.6274 - val_loss: 1.9001 - val_categorical_crossentropy: 1.9001 - val_categorical_accuracy: 0.5586 - val_top_3_accuracy: 0.7474\n",
      "Epoch 2/150\n",
      "2000/2000 [==============================] - 235s 117ms/step - loss: 1.7821 - categorical_crossentropy: 1.7821 - categorical_accuracy: 0.5841 - top_3_accuracy: 0.7683 - val_loss: 1.6890 - val_categorical_crossentropy: 1.6890 - val_categorical_accuracy: 0.5991 - val_top_3_accuracy: 0.7854\n",
      "Epoch 3/150\n",
      "2000/2000 [==============================] - 234s 117ms/step - loss: 1.6296 - categorical_crossentropy: 1.6296 - categorical_accuracy: 0.6151 - top_3_accuracy: 0.7947 - val_loss: 1.5664 - val_categorical_crossentropy: 1.5664 - val_categorical_accuracy: 0.6243 - val_top_3_accuracy: 0.8047\n",
      "Epoch 4/150\n",
      "2000/2000 [==============================] - 235s 118ms/step - loss: 1.5524 - categorical_crossentropy: 1.5524 - categorical_accuracy: 0.6315 - top_3_accuracy: 0.8081 - val_loss: 1.5682 - val_categorical_crossentropy: 1.5682 - val_categorical_accuracy: 0.6244 - val_top_3_accuracy: 0.8051\n",
      "Epoch 5/150\n",
      "2000/2000 [==============================] - 235s 118ms/step - loss: 1.4987 - categorical_crossentropy: 1.4987 - categorical_accuracy: 0.6429 - top_3_accuracy: 0.8166 - val_loss: 1.4692 - val_categorical_crossentropy: 1.4692 - val_categorical_accuracy: 0.6481 - val_top_3_accuracy: 0.8212\n",
      "Epoch 6/150\n",
      "2000/2000 [==============================] - 235s 117ms/step - loss: 1.4625 - categorical_crossentropy: 1.4625 - categorical_accuracy: 0.6517 - top_3_accuracy: 0.8231 - val_loss: 1.4335 - val_categorical_crossentropy: 1.4335 - val_categorical_accuracy: 0.6545 - val_top_3_accuracy: 0.8279\n",
      "Epoch 7/150\n",
      "2000/2000 [==============================] - 235s 117ms/step - loss: 1.4343 - categorical_crossentropy: 1.4343 - categorical_accuracy: 0.6576 - top_3_accuracy: 0.8271 - val_loss: 1.4075 - val_categorical_crossentropy: 1.4075 - val_categorical_accuracy: 0.6620 - val_top_3_accuracy: 0.8305\n",
      "Epoch 8/150\n",
      "2000/2000 [==============================] - 234s 117ms/step - loss: 1.4163 - categorical_crossentropy: 1.4163 - categorical_accuracy: 0.6617 - top_3_accuracy: 0.8302 - val_loss: 1.4056 - val_categorical_crossentropy: 1.4056 - val_categorical_accuracy: 0.6626 - val_top_3_accuracy: 0.8315\n",
      "Epoch 9/150\n",
      "2000/2000 [==============================] - 234s 117ms/step - loss: 1.3960 - categorical_crossentropy: 1.3960 - categorical_accuracy: 0.6648 - top_3_accuracy: 0.8333 - val_loss: 1.3716 - val_categorical_crossentropy: 1.3716 - val_categorical_accuracy: 0.6698 - val_top_3_accuracy: 0.8375\n",
      "Epoch 10/150\n",
      "2000/2000 [==============================] - 234s 117ms/step - loss: 1.3824 - categorical_crossentropy: 1.3824 - categorical_accuracy: 0.6690 - top_3_accuracy: 0.8356 - val_loss: 1.3595 - val_categorical_crossentropy: 1.3595 - val_categorical_accuracy: 0.6727 - val_top_3_accuracy: 0.8374\n",
      "Epoch 11/150\n",
      "2000/2000 [==============================] - 234s 117ms/step - loss: 1.3668 - categorical_crossentropy: 1.3668 - categorical_accuracy: 0.6725 - top_3_accuracy: 0.8384 - val_loss: 1.3519 - val_categorical_crossentropy: 1.3519 - val_categorical_accuracy: 0.6717 - val_top_3_accuracy: 0.8393\n",
      "Epoch 12/150\n",
      "2000/2000 [==============================] - 235s 117ms/step - loss: 1.3555 - categorical_crossentropy: 1.3555 - categorical_accuracy: 0.6740 - top_3_accuracy: 0.8405 - val_loss: 1.3364 - val_categorical_crossentropy: 1.3364 - val_categorical_accuracy: 0.6770 - val_top_3_accuracy: 0.8444\n",
      "Epoch 13/150\n",
      "2000/2000 [==============================] - 235s 117ms/step - loss: 1.3474 - categorical_crossentropy: 1.3474 - categorical_accuracy: 0.6765 - top_3_accuracy: 0.8414 - val_loss: 1.3238 - val_categorical_crossentropy: 1.3238 - val_categorical_accuracy: 0.6799 - val_top_3_accuracy: 0.8433\n",
      "Epoch 14/150\n",
      "2000/2000 [==============================] - 234s 117ms/step - loss: 1.3380 - categorical_crossentropy: 1.3380 - categorical_accuracy: 0.6786 - top_3_accuracy: 0.8423 - val_loss: 1.3191 - val_categorical_crossentropy: 1.3191 - val_categorical_accuracy: 0.6805 - val_top_3_accuracy: 0.8460\n",
      "Epoch 15/150\n",
      "2000/2000 [==============================] - 235s 118ms/step - loss: 1.3282 - categorical_crossentropy: 1.3282 - categorical_accuracy: 0.6798 - top_3_accuracy: 0.8443 - val_loss: 1.3082 - val_categorical_crossentropy: 1.3082 - val_categorical_accuracy: 0.6830 - val_top_3_accuracy: 0.8466\n",
      "Epoch 16/150\n",
      "2000/2000 [==============================] - 234s 117ms/step - loss: 1.3236 - categorical_crossentropy: 1.3236 - categorical_accuracy: 0.6817 - top_3_accuracy: 0.8446 - val_loss: 1.3062 - val_categorical_crossentropy: 1.3062 - val_categorical_accuracy: 0.6829 - val_top_3_accuracy: 0.8462\n",
      "Epoch 17/150\n",
      "2000/2000 [==============================] - ETA: 0s - loss: 1.3131 - categorical_crossentropy: 1.3131 - categorical_accuracy: 0.6831 - top_3_accuracy: 0.8467\n",
      "Epoch 00017: ReduceLROnPlateau reducing learning rate to 0.0003000000142492354.\n",
      "2000/2000 [==============================] - 235s 118ms/step - loss: 1.3131 - categorical_crossentropy: 1.3131 - categorical_accuracy: 0.6831 - top_3_accuracy: 0.8467 - val_loss: 1.3024 - val_categorical_crossentropy: 1.3024 - val_categorical_accuracy: 0.6861 - val_top_3_accuracy: 0.8473\n",
      "Epoch 18/150\n",
      "2000/2000 [==============================] - 235s 118ms/step - loss: 1.2677 - categorical_crossentropy: 1.2677 - categorical_accuracy: 0.6952 - top_3_accuracy: 0.8532 - val_loss: 1.2482 - val_categorical_crossentropy: 1.2482 - val_categorical_accuracy: 0.6990 - val_top_3_accuracy: 0.8558\n",
      "Epoch 19/150\n",
      "2000/2000 [==============================] - 235s 117ms/step - loss: 1.2526 - categorical_crossentropy: 1.2526 - categorical_accuracy: 0.6980 - top_3_accuracy: 0.8551 - val_loss: 1.2410 - val_categorical_crossentropy: 1.2410 - val_categorical_accuracy: 0.7005 - val_top_3_accuracy: 0.8570\n",
      "Epoch 20/150\n",
      "2000/2000 [==============================] - 235s 118ms/step - loss: 1.2389 - categorical_crossentropy: 1.2389 - categorical_accuracy: 0.7014 - top_3_accuracy: 0.8573 - val_loss: 1.2374 - val_categorical_crossentropy: 1.2374 - val_categorical_accuracy: 0.7009 - val_top_3_accuracy: 0.8578\n",
      "Epoch 21/150\n",
      "2000/2000 [==============================] - 235s 118ms/step - loss: 1.2096 - categorical_crossentropy: 1.2096 - categorical_accuracy: 0.7083 - top_3_accuracy: 0.8614 - val_loss: 1.2337 - val_categorical_crossentropy: 1.2337 - val_categorical_accuracy: 0.7021 - val_top_3_accuracy: 0.8574\n",
      "Epoch 22/150\n",
      "2000/2000 [==============================] - 235s 117ms/step - loss: 1.2118 - categorical_crossentropy: 1.2118 - categorical_accuracy: 0.7081 - top_3_accuracy: 0.8615 - val_loss: 1.2342 - val_categorical_crossentropy: 1.2342 - val_categorical_accuracy: 0.7002 - val_top_3_accuracy: 0.8572\n",
      "Epoch 23/150\n",
      "2000/2000 [==============================] - ETA: 0s - loss: 1.2058 - categorical_crossentropy: 1.2058 - categorical_accuracy: 0.7082 - top_3_accuracy: 0.8623\n",
      "Epoch 00023: ReduceLROnPlateau reducing learning rate to 9.000000427477062e-05.\n",
      "2000/2000 [==============================] - 234s 117ms/step - loss: 1.2058 - categorical_crossentropy: 1.2058 - categorical_accuracy: 0.7082 - top_3_accuracy: 0.8623 - val_loss: 1.2312 - val_categorical_crossentropy: 1.2312 - val_categorical_accuracy: 0.7017 - val_top_3_accuracy: 0.8573\n",
      "Epoch 24/150\n",
      "2000/2000 [==============================] - 234s 117ms/step - loss: 1.2059 - categorical_crossentropy: 1.2059 - categorical_accuracy: 0.7099 - top_3_accuracy: 0.8622 - val_loss: 1.2151 - val_categorical_crossentropy: 1.2151 - val_categorical_accuracy: 0.7064 - val_top_3_accuracy: 0.8603\n",
      "Epoch 25/150\n",
      "2000/2000 [==============================] - 234s 117ms/step - loss: 1.1774 - categorical_crossentropy: 1.1774 - categorical_accuracy: 0.7158 - top_3_accuracy: 0.8664 - val_loss: 1.2151 - val_categorical_crossentropy: 1.2151 - val_categorical_accuracy: 0.7070 - val_top_3_accuracy: 0.8599\n",
      "Epoch 26/150\n",
      "2000/2000 [==============================] - 234s 117ms/step - loss: 1.1838 - categorical_crossentropy: 1.1838 - categorical_accuracy: 0.7142 - top_3_accuracy: 0.8654 - val_loss: 1.2115 - val_categorical_crossentropy: 1.2115 - val_categorical_accuracy: 0.7069 - val_top_3_accuracy: 0.8605\n",
      "Epoch 27/150\n",
      "2000/2000 [==============================] - 234s 117ms/step - loss: 1.1648 - categorical_crossentropy: 1.1648 - categorical_accuracy: 0.7192 - top_3_accuracy: 0.8684 - val_loss: 1.2105 - val_categorical_crossentropy: 1.2105 - val_categorical_accuracy: 0.7076 - val_top_3_accuracy: 0.8604\n",
      "Epoch 28/150\n",
      "2000/2000 [==============================] - 234s 117ms/step - loss: 1.1869 - categorical_crossentropy: 1.1869 - categorical_accuracy: 0.7138 - top_3_accuracy: 0.8648 - val_loss: 1.2093 - val_categorical_crossentropy: 1.2093 - val_categorical_accuracy: 0.7068 - val_top_3_accuracy: 0.8612\n",
      "Epoch 29/150\n",
      "2000/2000 [==============================] - 235s 117ms/step - loss: 1.1914 - categorical_crossentropy: 1.1914 - categorical_accuracy: 0.7125 - top_3_accuracy: 0.8644 - val_loss: 1.2079 - val_categorical_crossentropy: 1.2079 - val_categorical_accuracy: 0.7085 - val_top_3_accuracy: 0.8615\n",
      "Epoch 30/150\n",
      "2000/2000 [==============================] - 234s 117ms/step - loss: 1.1829 - categorical_crossentropy: 1.1829 - categorical_accuracy: 0.7150 - top_3_accuracy: 0.8656 - val_loss: 1.2072 - val_categorical_crossentropy: 1.2072 - val_categorical_accuracy: 0.7082 - val_top_3_accuracy: 0.8603\n",
      "Epoch 31/150\n",
      "2000/2000 [==============================] - 234s 117ms/step - loss: 1.1510 - categorical_crossentropy: 1.1510 - categorical_accuracy: 0.7218 - top_3_accuracy: 0.8704 - val_loss: 1.2062 - val_categorical_crossentropy: 1.2062 - val_categorical_accuracy: 0.7078 - val_top_3_accuracy: 0.8612\n",
      "Epoch 32/150\n",
      "2000/2000 [==============================] - 235s 117ms/step - loss: 1.1892 - categorical_crossentropy: 1.1892 - categorical_accuracy: 0.7133 - top_3_accuracy: 0.8647 - val_loss: 1.2039 - val_categorical_crossentropy: 1.2039 - val_categorical_accuracy: 0.7091 - val_top_3_accuracy: 0.8620\n",
      "Epoch 33/150\n",
      "2000/2000 [==============================] - ETA: 0s - loss: 1.1805 - categorical_crossentropy: 1.1805 - categorical_accuracy: 0.7147 - top_3_accuracy: 0.8658\n",
      "Epoch 00033: ReduceLROnPlateau reducing learning rate to 2.700000040931627e-05.\n",
      "2000/2000 [==============================] - 234s 117ms/step - loss: 1.1805 - categorical_crossentropy: 1.1805 - categorical_accuracy: 0.7147 - top_3_accuracy: 0.8658 - val_loss: 1.2021 - val_categorical_crossentropy: 1.2021 - val_categorical_accuracy: 0.7086 - val_top_3_accuracy: 0.8618\n",
      "Epoch 34/150\n",
      "2000/2000 [==============================] - 234s 117ms/step - loss: 1.1627 - categorical_crossentropy: 1.1627 - categorical_accuracy: 0.7202 - top_3_accuracy: 0.8693 - val_loss: 1.1999 - val_categorical_crossentropy: 1.1999 - val_categorical_accuracy: 0.7112 - val_top_3_accuracy: 0.8623\n",
      "Epoch 35/150\n",
      "2000/2000 [==============================] - 234s 117ms/step - loss: 1.1844 - categorical_crossentropy: 1.1844 - categorical_accuracy: 0.7141 - top_3_accuracy: 0.8656 - val_loss: 1.1985 - val_categorical_crossentropy: 1.1985 - val_categorical_accuracy: 0.7091 - val_top_3_accuracy: 0.8621\n",
      "Epoch 36/150\n",
      "2000/2000 [==============================] - 234s 117ms/step - loss: 1.1764 - categorical_crossentropy: 1.1764 - categorical_accuracy: 0.7166 - top_3_accuracy: 0.8669 - val_loss: 1.1985 - val_categorical_crossentropy: 1.1985 - val_categorical_accuracy: 0.7098 - val_top_3_accuracy: 0.8624\n",
      "Epoch 37/150\n",
      "2000/2000 [==============================] - 235s 118ms/step - loss: 1.1849 - categorical_crossentropy: 1.1849 - categorical_accuracy: 0.7141 - top_3_accuracy: 0.8651 - val_loss: 1.1980 - val_categorical_crossentropy: 1.1980 - val_categorical_accuracy: 0.7106 - val_top_3_accuracy: 0.8624\n",
      "Epoch 38/150\n",
      "2000/2000 [==============================] - ETA: 0s - loss: 1.1857 - categorical_crossentropy: 1.1857 - categorical_accuracy: 0.7137 - top_3_accuracy: 0.8650\n",
      "Epoch 00038: ReduceLROnPlateau reducing learning rate to 8.100000013655517e-06.\n",
      "2000/2000 [==============================] - 234s 117ms/step - loss: 1.1857 - categorical_crossentropy: 1.1857 - categorical_accuracy: 0.7137 - top_3_accuracy: 0.8650 - val_loss: 1.1974 - val_categorical_crossentropy: 1.1974 - val_categorical_accuracy: 0.7108 - val_top_3_accuracy: 0.8624\n",
      "Epoch 39/150\n",
      "2000/2000 [==============================] - 234s 117ms/step - loss: 1.1750 - categorical_crossentropy: 1.1750 - categorical_accuracy: 0.7162 - top_3_accuracy: 0.8669 - val_loss: 1.1963 - val_categorical_crossentropy: 1.1963 - val_categorical_accuracy: 0.7111 - val_top_3_accuracy: 0.8630\n",
      "Epoch 40/150\n",
      "2000/2000 [==============================] - 235s 117ms/step - loss: 1.1609 - categorical_crossentropy: 1.1609 - categorical_accuracy: 0.7201 - top_3_accuracy: 0.8686 - val_loss: 1.1965 - val_categorical_crossentropy: 1.1965 - val_categorical_accuracy: 0.7107 - val_top_3_accuracy: 0.8628\n",
      "Epoch 41/150\n",
      "2000/2000 [==============================] - 235s 117ms/step - loss: 1.1607 - categorical_crossentropy: 1.1607 - categorical_accuracy: 0.7195 - top_3_accuracy: 0.8691 - val_loss: 1.1968 - val_categorical_crossentropy: 1.1968 - val_categorical_accuracy: 0.7103 - val_top_3_accuracy: 0.8627\n",
      "Epoch 42/150\n",
      "2000/2000 [==============================] - 235s 117ms/step - loss: 1.1408 - categorical_crossentropy: 1.1408 - categorical_accuracy: 0.7241 - top_3_accuracy: 0.8721 - val_loss: 1.1966 - val_categorical_crossentropy: 1.1966 - val_categorical_accuracy: 0.7104 - val_top_3_accuracy: 0.8626\n",
      "Epoch 43/150\n",
      "2000/2000 [==============================] - ETA: 0s - loss: 1.1537 - categorical_crossentropy: 1.1537 - categorical_accuracy: 0.7218 - top_3_accuracy: 0.8704\n",
      "Epoch 00043: ReduceLROnPlateau reducing learning rate to 2.429999949526973e-06.\n",
      "2000/2000 [==============================] - 235s 118ms/step - loss: 1.1537 - categorical_crossentropy: 1.1537 - categorical_accuracy: 0.7218 - top_3_accuracy: 0.8704 - val_loss: 1.1968 - val_categorical_crossentropy: 1.1968 - val_categorical_accuracy: 0.7110 - val_top_3_accuracy: 0.8628\n",
      "Epoch 44/150\n",
      "2000/2000 [==============================] - 235s 118ms/step - loss: 1.1274 - categorical_crossentropy: 1.1274 - categorical_accuracy: 0.7276 - top_3_accuracy: 0.8736 - val_loss: 1.1969 - val_categorical_crossentropy: 1.1969 - val_categorical_accuracy: 0.7111 - val_top_3_accuracy: 0.8626\n",
      "Epoch 45/150\n",
      "2000/2000 [==============================] - 235s 118ms/step - loss: 1.1511 - categorical_crossentropy: 1.1511 - categorical_accuracy: 0.7222 - top_3_accuracy: 0.8698 - val_loss: 1.1964 - val_categorical_crossentropy: 1.1964 - val_categorical_accuracy: 0.7110 - val_top_3_accuracy: 0.8628\n",
      "Epoch 46/150\n",
      "2000/2000 [==============================] - 235s 118ms/step - loss: 1.1546 - categorical_crossentropy: 1.1546 - categorical_accuracy: 0.7212 - top_3_accuracy: 0.8696 - val_loss: 1.1963 - val_categorical_crossentropy: 1.1963 - val_categorical_accuracy: 0.7111 - val_top_3_accuracy: 0.8631\n",
      "Epoch 47/150\n",
      "2000/2000 [==============================] - 234s 117ms/step - loss: 1.1498 - categorical_crossentropy: 1.1498 - categorical_accuracy: 0.7223 - top_3_accuracy: 0.8703 - val_loss: 1.1964 - val_categorical_crossentropy: 1.1964 - val_categorical_accuracy: 0.7111 - val_top_3_accuracy: 0.8631\n",
      "Epoch 48/150\n",
      "2000/2000 [==============================] - ETA: 0s - loss: 1.1483 - categorical_crossentropy: 1.1483 - categorical_accuracy: 0.7226 - top_3_accuracy: 0.8706\n",
      "Epoch 00048: ReduceLROnPlateau reducing learning rate to 7.289999985005124e-07.\n",
      "2000/2000 [==============================] - 234s 117ms/step - loss: 1.1483 - categorical_crossentropy: 1.1483 - categorical_accuracy: 0.7226 - top_3_accuracy: 0.8706 - val_loss: 1.1964 - val_categorical_crossentropy: 1.1964 - val_categorical_accuracy: 0.7114 - val_top_3_accuracy: 0.8628\n",
      "Epoch 49/150\n"
     ]
    },
    {
     "name": "stdout",
     "output_type": "stream",
     "text": [
      "2000/2000 [==============================] - 234s 117ms/step - loss: 1.1617 - categorical_crossentropy: 1.1617 - categorical_accuracy: 0.7191 - top_3_accuracy: 0.8684 - val_loss: 1.1963 - val_categorical_crossentropy: 1.1963 - val_categorical_accuracy: 0.7120 - val_top_3_accuracy: 0.8630\n",
      "Epoch 50/150\n",
      "2000/2000 [==============================] - 233s 116ms/step - loss: 1.1643 - categorical_crossentropy: 1.1643 - categorical_accuracy: 0.7191 - top_3_accuracy: 0.8683 - val_loss: 1.1962 - val_categorical_crossentropy: 1.1962 - val_categorical_accuracy: 0.7116 - val_top_3_accuracy: 0.8631\n",
      "Epoch 51/150\n",
      "2000/2000 [==============================] - 234s 117ms/step - loss: 1.1455 - categorical_crossentropy: 1.1455 - categorical_accuracy: 0.7240 - top_3_accuracy: 0.8711 - val_loss: 1.1962 - val_categorical_crossentropy: 1.1962 - val_categorical_accuracy: 0.7117 - val_top_3_accuracy: 0.8631\n",
      "Epoch 52/150\n",
      "2000/2000 [==============================] - 234s 117ms/step - loss: 1.1676 - categorical_crossentropy: 1.1676 - categorical_accuracy: 0.7188 - top_3_accuracy: 0.8677 - val_loss: 1.1961 - val_categorical_crossentropy: 1.1961 - val_categorical_accuracy: 0.7116 - val_top_3_accuracy: 0.8630\n",
      "Epoch 53/150\n",
      "2000/2000 [==============================] - ETA: 0s - loss: 1.1713 - categorical_crossentropy: 1.1713 - categorical_accuracy: 0.7183 - top_3_accuracy: 0.8676\n",
      "Epoch 00053: ReduceLROnPlateau reducing learning rate to 2.1870000637136398e-07.\n",
      "2000/2000 [==============================] - 237s 119ms/step - loss: 1.1713 - categorical_crossentropy: 1.1713 - categorical_accuracy: 0.7183 - top_3_accuracy: 0.8676 - val_loss: 1.1960 - val_categorical_crossentropy: 1.1960 - val_categorical_accuracy: 0.7114 - val_top_3_accuracy: 0.8631\n",
      "Epoch 54/150\n",
      "2000/2000 [==============================] - 233s 117ms/step - loss: 1.1728 - categorical_crossentropy: 1.1728 - categorical_accuracy: 0.7168 - top_3_accuracy: 0.8667 - val_loss: 1.1960 - val_categorical_crossentropy: 1.1960 - val_categorical_accuracy: 0.7115 - val_top_3_accuracy: 0.8631\n",
      "Epoch 55/150\n",
      "2000/2000 [==============================] - 234s 117ms/step - loss: 1.1732 - categorical_crossentropy: 1.1732 - categorical_accuracy: 0.7175 - top_3_accuracy: 0.8675 - val_loss: 1.1960 - val_categorical_crossentropy: 1.1960 - val_categorical_accuracy: 0.7118 - val_top_3_accuracy: 0.8630\n",
      "Epoch 56/150\n",
      "2000/2000 [==============================] - 234s 117ms/step - loss: 1.1557 - categorical_crossentropy: 1.1557 - categorical_accuracy: 0.7207 - top_3_accuracy: 0.8696 - val_loss: 1.1960 - val_categorical_crossentropy: 1.1960 - val_categorical_accuracy: 0.7115 - val_top_3_accuracy: 0.8630\n",
      "Epoch 57/150\n",
      "2000/2000 [==============================] - 235s 117ms/step - loss: 1.1708 - categorical_crossentropy: 1.1708 - categorical_accuracy: 0.7181 - top_3_accuracy: 0.8670 - val_loss: 1.1960 - val_categorical_crossentropy: 1.1960 - val_categorical_accuracy: 0.7115 - val_top_3_accuracy: 0.8632\n",
      "Epoch 58/150\n",
      "2000/2000 [==============================] - ETA: 0s - loss: 1.1523 - categorical_crossentropy: 1.1523 - categorical_accuracy: 0.7223 - top_3_accuracy: 0.8697\n",
      "Epoch 00058: ReduceLROnPlateau reducing learning rate to 6.561000276406048e-08.\n",
      "2000/2000 [==============================] - 234s 117ms/step - loss: 1.1523 - categorical_crossentropy: 1.1523 - categorical_accuracy: 0.7223 - top_3_accuracy: 0.8697 - val_loss: 1.1960 - val_categorical_crossentropy: 1.1960 - val_categorical_accuracy: 0.7114 - val_top_3_accuracy: 0.8632\n",
      "Epoch 59/150\n",
      "2000/2000 [==============================] - 234s 117ms/step - loss: 1.1595 - categorical_crossentropy: 1.1595 - categorical_accuracy: 0.7196 - top_3_accuracy: 0.8692 - val_loss: 1.1960 - val_categorical_crossentropy: 1.1960 - val_categorical_accuracy: 0.7115 - val_top_3_accuracy: 0.8632\n",
      "Epoch 60/150\n",
      "2000/2000 [==============================] - 234s 117ms/step - loss: 1.1624 - categorical_crossentropy: 1.1624 - categorical_accuracy: 0.7197 - top_3_accuracy: 0.8683 - val_loss: 1.1960 - val_categorical_crossentropy: 1.1960 - val_categorical_accuracy: 0.7115 - val_top_3_accuracy: 0.8631\n",
      "Epoch 61/150\n",
      "2000/2000 [==============================] - 235s 118ms/step - loss: 1.1629 - categorical_crossentropy: 1.1629 - categorical_accuracy: 0.7194 - top_3_accuracy: 0.8687 - val_loss: 1.1960 - val_categorical_crossentropy: 1.1960 - val_categorical_accuracy: 0.7115 - val_top_3_accuracy: 0.8631\n",
      "Epoch 62/150\n",
      "2000/2000 [==============================] - 235s 117ms/step - loss: 1.1398 - categorical_crossentropy: 1.1398 - categorical_accuracy: 0.7244 - top_3_accuracy: 0.8718 - val_loss: 1.1960 - val_categorical_crossentropy: 1.1960 - val_categorical_accuracy: 0.7115 - val_top_3_accuracy: 0.8632\n",
      "Epoch 63/150\n",
      "2000/2000 [==============================] - ETA: 0s - loss: 1.1681 - categorical_crossentropy: 1.1681 - categorical_accuracy: 0.7187 - top_3_accuracy: 0.8678\n",
      "Epoch 00063: ReduceLROnPlateau reducing learning rate to 1.9683000829218145e-08.\n",
      "2000/2000 [==============================] - 234s 117ms/step - loss: 1.1681 - categorical_crossentropy: 1.1681 - categorical_accuracy: 0.7187 - top_3_accuracy: 0.8678 - val_loss: 1.1960 - val_categorical_crossentropy: 1.1960 - val_categorical_accuracy: 0.7115 - val_top_3_accuracy: 0.8632\n",
      "Epoch 64/150\n",
      "2000/2000 [==============================] - 235s 117ms/step - loss: 1.1475 - categorical_crossentropy: 1.1475 - categorical_accuracy: 0.7224 - top_3_accuracy: 0.8708 - val_loss: 1.1960 - val_categorical_crossentropy: 1.1960 - val_categorical_accuracy: 0.7115 - val_top_3_accuracy: 0.8632\n",
      "Epoch 65/150\n",
      "2000/2000 [==============================] - 234s 117ms/step - loss: 1.1337 - categorical_crossentropy: 1.1337 - categorical_accuracy: 0.7262 - top_3_accuracy: 0.8727 - val_loss: 1.1960 - val_categorical_crossentropy: 1.1960 - val_categorical_accuracy: 0.7115 - val_top_3_accuracy: 0.8631\n",
      "Epoch 66/150\n",
      "2000/2000 [==============================] - 235s 117ms/step - loss: 1.1628 - categorical_crossentropy: 1.1628 - categorical_accuracy: 0.7198 - top_3_accuracy: 0.8684 - val_loss: 1.1960 - val_categorical_crossentropy: 1.1960 - val_categorical_accuracy: 0.7115 - val_top_3_accuracy: 0.8632\n",
      "Epoch 67/150\n",
      "2000/2000 [==============================] - 235s 117ms/step - loss: 1.1560 - categorical_crossentropy: 1.1560 - categorical_accuracy: 0.7206 - top_3_accuracy: 0.8695 - val_loss: 1.1960 - val_categorical_crossentropy: 1.1960 - val_categorical_accuracy: 0.7115 - val_top_3_accuracy: 0.8632\n",
      "Epoch 68/150\n",
      "2000/2000 [==============================] - ETA: 0s - loss: 1.1586 - categorical_crossentropy: 1.1586 - categorical_accuracy: 0.7210 - top_3_accuracy: 0.8691\n",
      "Epoch 00068: ReduceLROnPlateau reducing learning rate to 5.904900035602622e-09.\n",
      "2000/2000 [==============================] - 234s 117ms/step - loss: 1.1586 - categorical_crossentropy: 1.1586 - categorical_accuracy: 0.7210 - top_3_accuracy: 0.8691 - val_loss: 1.1960 - val_categorical_crossentropy: 1.1960 - val_categorical_accuracy: 0.7115 - val_top_3_accuracy: 0.8632\n",
      "Epoch 69/150\n",
      "2000/2000 [==============================] - 234s 117ms/step - loss: 1.1732 - categorical_crossentropy: 1.1732 - categorical_accuracy: 0.7165 - top_3_accuracy: 0.8670 - val_loss: 1.1960 - val_categorical_crossentropy: 1.1960 - val_categorical_accuracy: 0.7115 - val_top_3_accuracy: 0.8632\n",
      "Epoch 70/150\n",
      "2000/2000 [==============================] - 234s 117ms/step - loss: 1.1554 - categorical_crossentropy: 1.1554 - categorical_accuracy: 0.7216 - top_3_accuracy: 0.8695 - val_loss: 1.1960 - val_categorical_crossentropy: 1.1960 - val_categorical_accuracy: 0.7115 - val_top_3_accuracy: 0.8632\n",
      "Epoch 71/150\n",
      "2000/2000 [==============================] - 235s 117ms/step - loss: 1.1279 - categorical_crossentropy: 1.1279 - categorical_accuracy: 0.7261 - top_3_accuracy: 0.8733 - val_loss: 1.1960 - val_categorical_crossentropy: 1.1960 - val_categorical_accuracy: 0.7115 - val_top_3_accuracy: 0.8632\n",
      "Epoch 72/150\n",
      "2000/2000 [==============================] - 234s 117ms/step - loss: 1.1595 - categorical_crossentropy: 1.1595 - categorical_accuracy: 0.7203 - top_3_accuracy: 0.8695 - val_loss: 1.1960 - val_categorical_crossentropy: 1.1960 - val_categorical_accuracy: 0.7115 - val_top_3_accuracy: 0.8632\n"
     ]
    },
    {
     "name": "stdout",
     "output_type": "stream",
     "text": [
      "Epoch 73/150\n",
      "2000/2000 [==============================] - ETA: 0s - loss: 1.1513 - categorical_crossentropy: 1.1513 - categorical_accuracy: 0.7220 - top_3_accuracy: 0.8702\n",
      "Epoch 00073: ReduceLROnPlateau reducing learning rate to 1.7714700373261393e-09.\n",
      "2000/2000 [==============================] - 234s 117ms/step - loss: 1.1513 - categorical_crossentropy: 1.1513 - categorical_accuracy: 0.7220 - top_3_accuracy: 0.8702 - val_loss: 1.1960 - val_categorical_crossentropy: 1.1960 - val_categorical_accuracy: 0.7115 - val_top_3_accuracy: 0.8632\n",
      "Epoch 74/150\n",
      "2000/2000 [==============================] - 233s 117ms/step - loss: 1.1735 - categorical_crossentropy: 1.1735 - categorical_accuracy: 0.7168 - top_3_accuracy: 0.8668 - val_loss: 1.1960 - val_categorical_crossentropy: 1.1960 - val_categorical_accuracy: 0.7115 - val_top_3_accuracy: 0.8632\n",
      "Epoch 75/150\n",
      "2000/2000 [==============================] - 234s 117ms/step - loss: 1.1435 - categorical_crossentropy: 1.1435 - categorical_accuracy: 0.7243 - top_3_accuracy: 0.8710 - val_loss: 1.1960 - val_categorical_crossentropy: 1.1960 - val_categorical_accuracy: 0.7115 - val_top_3_accuracy: 0.8632\n",
      "Epoch 76/150\n",
      "2000/2000 [==============================] - 234s 117ms/step - loss: 1.1421 - categorical_crossentropy: 1.1421 - categorical_accuracy: 0.7247 - top_3_accuracy: 0.8715 - val_loss: 1.1960 - val_categorical_crossentropy: 1.1960 - val_categorical_accuracy: 0.7115 - val_top_3_accuracy: 0.8632\n",
      "Epoch 77/150\n",
      "2000/2000 [==============================] - 234s 117ms/step - loss: 1.1644 - categorical_crossentropy: 1.1644 - categorical_accuracy: 0.7194 - top_3_accuracy: 0.8689 - val_loss: 1.1960 - val_categorical_crossentropy: 1.1960 - val_categorical_accuracy: 0.7115 - val_top_3_accuracy: 0.8632\n",
      "Epoch 78/150\n",
      "2000/2000 [==============================] - ETA: 0s - loss: 1.1668 - categorical_crossentropy: 1.1668 - categorical_accuracy: 0.7180 - top_3_accuracy: 0.8679\n",
      "Epoch 00078: ReduceLROnPlateau reducing learning rate to 5.314410245205181e-10.\n",
      "2000/2000 [==============================] - 234s 117ms/step - loss: 1.1668 - categorical_crossentropy: 1.1668 - categorical_accuracy: 0.7180 - top_3_accuracy: 0.8679 - val_loss: 1.1960 - val_categorical_crossentropy: 1.1960 - val_categorical_accuracy: 0.7115 - val_top_3_accuracy: 0.8632\n",
      "Epoch 79/150\n",
      "2000/2000 [==============================] - 234s 117ms/step - loss: 1.1610 - categorical_crossentropy: 1.1610 - categorical_accuracy: 0.7203 - top_3_accuracy: 0.8688 - val_loss: 1.1960 - val_categorical_crossentropy: 1.1960 - val_categorical_accuracy: 0.7115 - val_top_3_accuracy: 0.8632\n",
      "Epoch 80/150\n",
      "2000/2000 [==============================] - 234s 117ms/step - loss: 1.1591 - categorical_crossentropy: 1.1591 - categorical_accuracy: 0.7208 - top_3_accuracy: 0.8692 - val_loss: 1.1960 - val_categorical_crossentropy: 1.1960 - val_categorical_accuracy: 0.7115 - val_top_3_accuracy: 0.8632\n",
      "Epoch 81/150\n",
      "2000/2000 [==============================] - 234s 117ms/step - loss: 1.1470 - categorical_crossentropy: 1.1470 - categorical_accuracy: 0.7237 - top_3_accuracy: 0.8713 - val_loss: 1.1960 - val_categorical_crossentropy: 1.1960 - val_categorical_accuracy: 0.7115 - val_top_3_accuracy: 0.8632\n",
      "Epoch 82/150\n",
      "2000/2000 [==============================] - 236s 118ms/step - loss: 1.1527 - categorical_crossentropy: 1.1527 - categorical_accuracy: 0.7208 - top_3_accuracy: 0.8695 - val_loss: 1.1960 - val_categorical_crossentropy: 1.1960 - val_categorical_accuracy: 0.7115 - val_top_3_accuracy: 0.8632\n",
      "Epoch 83/150\n",
      "2000/2000 [==============================] - ETA: 0s - loss: 1.1595 - categorical_crossentropy: 1.1595 - categorical_accuracy: 0.7206 - top_3_accuracy: 0.8692\n",
      "Epoch 00083: ReduceLROnPlateau reducing learning rate to 1.5943230069481729e-10.\n",
      "2000/2000 [==============================] - 234s 117ms/step - loss: 1.1595 - categorical_crossentropy: 1.1595 - categorical_accuracy: 0.7206 - top_3_accuracy: 0.8692 - val_loss: 1.1960 - val_categorical_crossentropy: 1.1960 - val_categorical_accuracy: 0.7115 - val_top_3_accuracy: 0.8632\n",
      "Epoch 84/150\n",
      "2000/2000 [==============================] - 234s 117ms/step - loss: 1.1471 - categorical_crossentropy: 1.1471 - categorical_accuracy: 0.7232 - top_3_accuracy: 0.8708 - val_loss: 1.1960 - val_categorical_crossentropy: 1.1960 - val_categorical_accuracy: 0.7115 - val_top_3_accuracy: 0.8632\n",
      "Epoch 85/150\n",
      "2000/2000 [==============================] - 235s 118ms/step - loss: 1.1580 - categorical_crossentropy: 1.1580 - categorical_accuracy: 0.7205 - top_3_accuracy: 0.8694 - val_loss: 1.1960 - val_categorical_crossentropy: 1.1960 - val_categorical_accuracy: 0.7115 - val_top_3_accuracy: 0.8632\n",
      "Epoch 86/150\n",
      "2000/2000 [==============================] - 234s 117ms/step - loss: 1.1589 - categorical_crossentropy: 1.1589 - categorical_accuracy: 0.7190 - top_3_accuracy: 0.8689 - val_loss: 1.1960 - val_categorical_crossentropy: 1.1960 - val_categorical_accuracy: 0.7115 - val_top_3_accuracy: 0.8632\n",
      "Epoch 87/150\n",
      "2000/2000 [==============================] - 235s 117ms/step - loss: 1.1434 - categorical_crossentropy: 1.1434 - categorical_accuracy: 0.7241 - top_3_accuracy: 0.8713 - val_loss: 1.1960 - val_categorical_crossentropy: 1.1960 - val_categorical_accuracy: 0.7115 - val_top_3_accuracy: 0.8632\n",
      "Epoch 88/150\n",
      "2000/2000 [==============================] - ETA: 0s - loss: 1.1636 - categorical_crossentropy: 1.1636 - categorical_accuracy: 0.7191 - top_3_accuracy: 0.8684\n",
      "Epoch 00088: ReduceLROnPlateau reducing learning rate to 4.7829690208445185e-11.\n",
      "2000/2000 [==============================] - 234s 117ms/step - loss: 1.1636 - categorical_crossentropy: 1.1636 - categorical_accuracy: 0.7191 - top_3_accuracy: 0.8684 - val_loss: 1.1960 - val_categorical_crossentropy: 1.1960 - val_categorical_accuracy: 0.7115 - val_top_3_accuracy: 0.8632\n",
      "Epoch 89/150\n",
      "2000/2000 [==============================] - 235s 118ms/step - loss: 1.1704 - categorical_crossentropy: 1.1704 - categorical_accuracy: 0.7175 - top_3_accuracy: 0.8674 - val_loss: 1.1960 - val_categorical_crossentropy: 1.1960 - val_categorical_accuracy: 0.7115 - val_top_3_accuracy: 0.8632\n",
      "Epoch 90/150\n",
      "2000/2000 [==============================] - 234s 117ms/step - loss: 1.1677 - categorical_crossentropy: 1.1677 - categorical_accuracy: 0.7183 - top_3_accuracy: 0.8674 - val_loss: 1.1960 - val_categorical_crossentropy: 1.1960 - val_categorical_accuracy: 0.7115 - val_top_3_accuracy: 0.8632\n",
      "Epoch 91/150\n",
      "2000/2000 [==============================] - 237s 119ms/step - loss: 1.1591 - categorical_crossentropy: 1.1591 - categorical_accuracy: 0.7198 - top_3_accuracy: 0.8695 - val_loss: 1.1960 - val_categorical_crossentropy: 1.1960 - val_categorical_accuracy: 0.7115 - val_top_3_accuracy: 0.8632\n",
      "Epoch 92/150\n",
      "2000/2000 [==============================] - 234s 117ms/step - loss: 1.1577 - categorical_crossentropy: 1.1577 - categorical_accuracy: 0.7206 - top_3_accuracy: 0.8691 - val_loss: 1.1960 - val_categorical_crossentropy: 1.1960 - val_categorical_accuracy: 0.7115 - val_top_3_accuracy: 0.8632\n",
      "Epoch 93/150\n",
      "2000/2000 [==============================] - ETA: 0s - loss: 1.1570 - categorical_crossentropy: 1.1570 - categorical_accuracy: 0.7216 - top_3_accuracy: 0.8695\n",
      "Epoch 00093: ReduceLROnPlateau reducing learning rate to 1.434890747886719e-11.\n",
      "2000/2000 [==============================] - 234s 117ms/step - loss: 1.1570 - categorical_crossentropy: 1.1570 - categorical_accuracy: 0.7216 - top_3_accuracy: 0.8695 - val_loss: 1.1960 - val_categorical_crossentropy: 1.1960 - val_categorical_accuracy: 0.7115 - val_top_3_accuracy: 0.8632\n",
      "Epoch 94/150\n",
      "2000/2000 [==============================] - 235s 118ms/step - loss: 1.1351 - categorical_crossentropy: 1.1351 - categorical_accuracy: 0.7264 - top_3_accuracy: 0.8725 - val_loss: 1.1960 - val_categorical_crossentropy: 1.1960 - val_categorical_accuracy: 0.7115 - val_top_3_accuracy: 0.8632\n",
      "Epoch 95/150\n",
      "2000/2000 [==============================] - 234s 117ms/step - loss: 1.1603 - categorical_crossentropy: 1.1603 - categorical_accuracy: 0.7194 - top_3_accuracy: 0.8687 - val_loss: 1.1960 - val_categorical_crossentropy: 1.1960 - val_categorical_accuracy: 0.7115 - val_top_3_accuracy: 0.8632\n",
      "Epoch 96/150\n",
      "2000/2000 [==============================] - 234s 117ms/step - loss: 1.1535 - categorical_crossentropy: 1.1535 - categorical_accuracy: 0.7222 - top_3_accuracy: 0.8699 - val_loss: 1.1960 - val_categorical_crossentropy: 1.1960 - val_categorical_accuracy: 0.7115 - val_top_3_accuracy: 0.8632\n",
      "Epoch 97/150\n",
      "2000/2000 [==============================] - 234s 117ms/step - loss: 1.1580 - categorical_crossentropy: 1.1580 - categorical_accuracy: 0.7200 - top_3_accuracy: 0.8692 - val_loss: 1.1960 - val_categorical_crossentropy: 1.1960 - val_categorical_accuracy: 0.7115 - val_top_3_accuracy: 0.8632\n",
      "Epoch 98/150\n",
      "2000/2000 [==============================] - ETA: 0s - loss: 1.1325 - categorical_crossentropy: 1.1325 - categorical_accuracy: 0.7265 - top_3_accuracy: 0.8728\n",
      "Epoch 00098: ReduceLROnPlateau reducing learning rate to 4.304672243660157e-12.\n",
      "2000/2000 [==============================] - 235s 117ms/step - loss: 1.1325 - categorical_crossentropy: 1.1325 - categorical_accuracy: 0.7265 - top_3_accuracy: 0.8728 - val_loss: 1.1960 - val_categorical_crossentropy: 1.1960 - val_categorical_accuracy: 0.7115 - val_top_3_accuracy: 0.8632\n",
      "Epoch 99/150\n",
      "2000/2000 [==============================] - 235s 117ms/step - loss: 1.1780 - categorical_crossentropy: 1.1780 - categorical_accuracy: 0.7163 - top_3_accuracy: 0.8666 - val_loss: 1.1960 - val_categorical_crossentropy: 1.1960 - val_categorical_accuracy: 0.7115 - val_top_3_accuracy: 0.8632\n",
      "Epoch 100/150\n",
      "2000/2000 [==============================] - 234s 117ms/step - loss: 1.1498 - categorical_crossentropy: 1.1498 - categorical_accuracy: 0.7227 - top_3_accuracy: 0.8708 - val_loss: 1.1960 - val_categorical_crossentropy: 1.1960 - val_categorical_accuracy: 0.7115 - val_top_3_accuracy: 0.8632\n",
      "Epoch 101/150\n",
      "2000/2000 [==============================] - 235s 117ms/step - loss: 1.1531 - categorical_crossentropy: 1.1531 - categorical_accuracy: 0.7221 - top_3_accuracy: 0.8701 - val_loss: 1.1960 - val_categorical_crossentropy: 1.1960 - val_categorical_accuracy: 0.7115 - val_top_3_accuracy: 0.8632\n",
      "Epoch 102/150\n",
      "2000/2000 [==============================] - 235s 118ms/step - loss: 1.1606 - categorical_crossentropy: 1.1606 - categorical_accuracy: 0.7196 - top_3_accuracy: 0.8686 - val_loss: 1.1960 - val_categorical_crossentropy: 1.1960 - val_categorical_accuracy: 0.7115 - val_top_3_accuracy: 0.8632\n",
      "Epoch 103/150\n",
      "2000/2000 [==============================] - ETA: 0s - loss: 1.1608 - categorical_crossentropy: 1.1608 - categorical_accuracy: 0.7195 - top_3_accuracy: 0.8684\n",
      "Epoch 00103: ReduceLROnPlateau reducing learning rate to 1.2914016210563428e-12.\n",
      "2000/2000 [==============================] - 234s 117ms/step - loss: 1.1608 - categorical_crossentropy: 1.1608 - categorical_accuracy: 0.7195 - top_3_accuracy: 0.8684 - val_loss: 1.1960 - val_categorical_crossentropy: 1.1960 - val_categorical_accuracy: 0.7115 - val_top_3_accuracy: 0.8632\n",
      "Epoch 104/150\n",
      "2000/2000 [==============================] - 234s 117ms/step - loss: 1.1661 - categorical_crossentropy: 1.1661 - categorical_accuracy: 0.7181 - top_3_accuracy: 0.8684 - val_loss: 1.1960 - val_categorical_crossentropy: 1.1960 - val_categorical_accuracy: 0.7115 - val_top_3_accuracy: 0.8632\n",
      "Epoch 105/150\n",
      "2000/2000 [==============================] - 234s 117ms/step - loss: 1.1755 - categorical_crossentropy: 1.1755 - categorical_accuracy: 0.7162 - top_3_accuracy: 0.8666 - val_loss: 1.1960 - val_categorical_crossentropy: 1.1960 - val_categorical_accuracy: 0.7115 - val_top_3_accuracy: 0.8632\n",
      "Epoch 106/150\n",
      "2000/2000 [==============================] - 234s 117ms/step - loss: 1.1423 - categorical_crossentropy: 1.1423 - categorical_accuracy: 0.7246 - top_3_accuracy: 0.8716 - val_loss: 1.1960 - val_categorical_crossentropy: 1.1960 - val_categorical_accuracy: 0.7115 - val_top_3_accuracy: 0.8632\n",
      "Epoch 107/150\n",
      "2000/2000 [==============================] - 234s 117ms/step - loss: 1.1466 - categorical_crossentropy: 1.1466 - categorical_accuracy: 0.7234 - top_3_accuracy: 0.8710 - val_loss: 1.1960 - val_categorical_crossentropy: 1.1960 - val_categorical_accuracy: 0.7115 - val_top_3_accuracy: 0.8632\n",
      "Epoch 108/150\n",
      "2000/2000 [==============================] - ETA: 0s - loss: 1.1459 - categorical_crossentropy: 1.1459 - categorical_accuracy: 0.7225 - top_3_accuracy: 0.8707\n",
      "Epoch 00108: ReduceLROnPlateau reducing learning rate to 3.874204993273289e-13.\n",
      "2000/2000 [==============================] - 234s 117ms/step - loss: 1.1459 - categorical_crossentropy: 1.1459 - categorical_accuracy: 0.7225 - top_3_accuracy: 0.8707 - val_loss: 1.1960 - val_categorical_crossentropy: 1.1960 - val_categorical_accuracy: 0.7115 - val_top_3_accuracy: 0.8632\n",
      "Epoch 109/150\n",
      "2000/2000 [==============================] - 234s 117ms/step - loss: 1.1684 - categorical_crossentropy: 1.1684 - categorical_accuracy: 0.7188 - top_3_accuracy: 0.8677 - val_loss: 1.1960 - val_categorical_crossentropy: 1.1960 - val_categorical_accuracy: 0.7115 - val_top_3_accuracy: 0.8632\n",
      "Epoch 110/150\n",
      "2000/2000 [==============================] - 234s 117ms/step - loss: 1.1616 - categorical_crossentropy: 1.1616 - categorical_accuracy: 0.7196 - top_3_accuracy: 0.8683 - val_loss: 1.1960 - val_categorical_crossentropy: 1.1960 - val_categorical_accuracy: 0.7115 - val_top_3_accuracy: 0.8632\n",
      "Epoch 111/150\n",
      "2000/2000 [==============================] - 234s 117ms/step - loss: 1.1377 - categorical_crossentropy: 1.1377 - categorical_accuracy: 0.7247 - top_3_accuracy: 0.8721 - val_loss: 1.1960 - val_categorical_crossentropy: 1.1960 - val_categorical_accuracy: 0.7115 - val_top_3_accuracy: 0.8632\n",
      "Epoch 112/150\n",
      "2000/2000 [==============================] - 234s 117ms/step - loss: 1.1499 - categorical_crossentropy: 1.1499 - categorical_accuracy: 0.7228 - top_3_accuracy: 0.8703 - val_loss: 1.1960 - val_categorical_crossentropy: 1.1960 - val_categorical_accuracy: 0.7115 - val_top_3_accuracy: 0.8632\n",
      "Epoch 113/150\n",
      "2000/2000 [==============================] - ETA: 0s - loss: 1.1582 - categorical_crossentropy: 1.1582 - categorical_accuracy: 0.7202 - top_3_accuracy: 0.8693\n",
      "Epoch 00113: ReduceLROnPlateau reducing learning rate to 1.162261530508052e-13.\n",
      "2000/2000 [==============================] - 234s 117ms/step - loss: 1.1582 - categorical_crossentropy: 1.1582 - categorical_accuracy: 0.7202 - top_3_accuracy: 0.8693 - val_loss: 1.1960 - val_categorical_crossentropy: 1.1960 - val_categorical_accuracy: 0.7115 - val_top_3_accuracy: 0.8632\n",
      "Epoch 114/150\n",
      "2000/2000 [==============================] - 235s 118ms/step - loss: 1.1538 - categorical_crossentropy: 1.1538 - categorical_accuracy: 0.7219 - top_3_accuracy: 0.8702 - val_loss: 1.1960 - val_categorical_crossentropy: 1.1960 - val_categorical_accuracy: 0.7115 - val_top_3_accuracy: 0.8632\n",
      "Epoch 115/150\n",
      "2000/2000 [==============================] - 234s 117ms/step - loss: 1.1489 - categorical_crossentropy: 1.1489 - categorical_accuracy: 0.7226 - top_3_accuracy: 0.8704 - val_loss: 1.1960 - val_categorical_crossentropy: 1.1960 - val_categorical_accuracy: 0.7115 - val_top_3_accuracy: 0.8632\n",
      "Epoch 116/150\n",
      "2000/2000 [==============================] - 234s 117ms/step - loss: 1.1554 - categorical_crossentropy: 1.1554 - categorical_accuracy: 0.7213 - top_3_accuracy: 0.8695 - val_loss: 1.1960 - val_categorical_crossentropy: 1.1960 - val_categorical_accuracy: 0.7115 - val_top_3_accuracy: 0.8632\n",
      "Epoch 117/150\n",
      "2000/2000 [==============================] - 234s 117ms/step - loss: 1.1552 - categorical_crossentropy: 1.1552 - categorical_accuracy: 0.7216 - top_3_accuracy: 0.8699 - val_loss: 1.1960 - val_categorical_crossentropy: 1.1960 - val_categorical_accuracy: 0.7115 - val_top_3_accuracy: 0.8632\n",
      "Epoch 118/150\n",
      "2000/2000 [==============================] - ETA: 0s - loss: 1.1689 - categorical_crossentropy: 1.1689 - categorical_accuracy: 0.7173 - top_3_accuracy: 0.8672\n",
      "Epoch 00118: ReduceLROnPlateau reducing learning rate to 3.4867844288938296e-14.\n",
      "2000/2000 [==============================] - 235s 117ms/step - loss: 1.1689 - categorical_crossentropy: 1.1689 - categorical_accuracy: 0.7173 - top_3_accuracy: 0.8672 - val_loss: 1.1960 - val_categorical_crossentropy: 1.1960 - val_categorical_accuracy: 0.7115 - val_top_3_accuracy: 0.8632\n",
      "Epoch 119/150\n"
     ]
    },
    {
     "name": "stdout",
     "output_type": "stream",
     "text": [
      "2000/2000 [==============================] - 235s 117ms/step - loss: 1.1669 - categorical_crossentropy: 1.1669 - categorical_accuracy: 0.7199 - top_3_accuracy: 0.8686 - val_loss: 1.1960 - val_categorical_crossentropy: 1.1960 - val_categorical_accuracy: 0.7115 - val_top_3_accuracy: 0.8632\n",
      "Epoch 120/150\n",
      "2000/2000 [==============================] - 234s 117ms/step - loss: 1.1565 - categorical_crossentropy: 1.1565 - categorical_accuracy: 0.7213 - top_3_accuracy: 0.8696 - val_loss: 1.1960 - val_categorical_crossentropy: 1.1960 - val_categorical_accuracy: 0.7115 - val_top_3_accuracy: 0.8632\n",
      "Epoch 121/150\n",
      "2000/2000 [==============================] - 234s 117ms/step - loss: 1.1618 - categorical_crossentropy: 1.1618 - categorical_accuracy: 0.7205 - top_3_accuracy: 0.8689 - val_loss: 1.1960 - val_categorical_crossentropy: 1.1960 - val_categorical_accuracy: 0.7115 - val_top_3_accuracy: 0.8632\n",
      "Epoch 122/150\n",
      "2000/2000 [==============================] - 234s 117ms/step - loss: 1.1636 - categorical_crossentropy: 1.1636 - categorical_accuracy: 0.7184 - top_3_accuracy: 0.8681 - val_loss: 1.1960 - val_categorical_crossentropy: 1.1960 - val_categorical_accuracy: 0.7115 - val_top_3_accuracy: 0.8632\n",
      "Epoch 123/150\n",
      "2000/2000 [==============================] - ETA: 0s - loss: 1.1551 - categorical_crossentropy: 1.1551 - categorical_accuracy: 0.7220 - top_3_accuracy: 0.8696\n",
      "Epoch 00123: ReduceLROnPlateau reducing learning rate to 1.0460353083393582e-14.\n",
      "2000/2000 [==============================] - 234s 117ms/step - loss: 1.1551 - categorical_crossentropy: 1.1551 - categorical_accuracy: 0.7220 - top_3_accuracy: 0.8696 - val_loss: 1.1960 - val_categorical_crossentropy: 1.1960 - val_categorical_accuracy: 0.7115 - val_top_3_accuracy: 0.8632\n",
      "Epoch 124/150\n",
      "2000/2000 [==============================] - 234s 117ms/step - loss: 1.1713 - categorical_crossentropy: 1.1713 - categorical_accuracy: 0.7179 - top_3_accuracy: 0.8672 - val_loss: 1.1960 - val_categorical_crossentropy: 1.1960 - val_categorical_accuracy: 0.7115 - val_top_3_accuracy: 0.8632\n",
      "Epoch 125/150\n",
      "2000/2000 [==============================] - 233s 117ms/step - loss: 1.1544 - categorical_crossentropy: 1.1544 - categorical_accuracy: 0.7209 - top_3_accuracy: 0.8693 - val_loss: 1.1960 - val_categorical_crossentropy: 1.1960 - val_categorical_accuracy: 0.7115 - val_top_3_accuracy: 0.8632\n",
      "Epoch 126/150\n",
      "2000/2000 [==============================] - 234s 117ms/step - loss: 1.1554 - categorical_crossentropy: 1.1554 - categorical_accuracy: 0.7211 - top_3_accuracy: 0.8696 - val_loss: 1.1960 - val_categorical_crossentropy: 1.1960 - val_categorical_accuracy: 0.7115 - val_top_3_accuracy: 0.8632\n",
      "Epoch 127/150\n",
      "2000/2000 [==============================] - 235s 118ms/step - loss: 1.1369 - categorical_crossentropy: 1.1369 - categorical_accuracy: 0.7254 - top_3_accuracy: 0.8725 - val_loss: 1.1960 - val_categorical_crossentropy: 1.1960 - val_categorical_accuracy: 0.7115 - val_top_3_accuracy: 0.8632\n",
      "Epoch 128/150\n",
      "2000/2000 [==============================] - ETA: 0s - loss: 1.1543 - categorical_crossentropy: 1.1543 - categorical_accuracy: 0.7210 - top_3_accuracy: 0.8696\n",
      "Epoch 00128: ReduceLROnPlateau reducing learning rate to 3.138105874196098e-15.\n",
      "2000/2000 [==============================] - 234s 117ms/step - loss: 1.1543 - categorical_crossentropy: 1.1543 - categorical_accuracy: 0.7210 - top_3_accuracy: 0.8696 - val_loss: 1.1960 - val_categorical_crossentropy: 1.1960 - val_categorical_accuracy: 0.7115 - val_top_3_accuracy: 0.8632\n",
      "Epoch 129/150\n",
      "2000/2000 [==============================] - 234s 117ms/step - loss: 1.1363 - categorical_crossentropy: 1.1363 - categorical_accuracy: 0.7247 - top_3_accuracy: 0.8721 - val_loss: 1.1960 - val_categorical_crossentropy: 1.1960 - val_categorical_accuracy: 0.7115 - val_top_3_accuracy: 0.8632\n",
      "Epoch 130/150\n",
      "2000/2000 [==============================] - 235s 117ms/step - loss: 1.1456 - categorical_crossentropy: 1.1456 - categorical_accuracy: 0.7234 - top_3_accuracy: 0.8707 - val_loss: 1.1960 - val_categorical_crossentropy: 1.1960 - val_categorical_accuracy: 0.7115 - val_top_3_accuracy: 0.8632\n",
      "Epoch 131/150\n",
      "2000/2000 [==============================] - 234s 117ms/step - loss: 1.1708 - categorical_crossentropy: 1.1708 - categorical_accuracy: 0.7182 - top_3_accuracy: 0.8672 - val_loss: 1.1960 - val_categorical_crossentropy: 1.1960 - val_categorical_accuracy: 0.7115 - val_top_3_accuracy: 0.8632\n",
      "Epoch 132/150\n",
      "2000/2000 [==============================] - 234s 117ms/step - loss: 1.1603 - categorical_crossentropy: 1.1603 - categorical_accuracy: 0.7201 - top_3_accuracy: 0.8694 - val_loss: 1.1960 - val_categorical_crossentropy: 1.1960 - val_categorical_accuracy: 0.7115 - val_top_3_accuracy: 0.8632\n",
      "Epoch 133/150\n",
      "2000/2000 [==============================] - ETA: 0s - loss: 1.1600 - categorical_crossentropy: 1.1600 - categorical_accuracy: 0.7201 - top_3_accuracy: 0.8692\n",
      "Epoch 00133: ReduceLROnPlateau reducing learning rate to 9.414317622588293e-16.\n",
      "2000/2000 [==============================] - 234s 117ms/step - loss: 1.1600 - categorical_crossentropy: 1.1600 - categorical_accuracy: 0.7201 - top_3_accuracy: 0.8692 - val_loss: 1.1960 - val_categorical_crossentropy: 1.1960 - val_categorical_accuracy: 0.7115 - val_top_3_accuracy: 0.8632\n",
      "Epoch 134/150\n",
      "2000/2000 [==============================] - 234s 117ms/step - loss: 1.1673 - categorical_crossentropy: 1.1673 - categorical_accuracy: 0.7184 - top_3_accuracy: 0.8677 - val_loss: 1.1960 - val_categorical_crossentropy: 1.1960 - val_categorical_accuracy: 0.7115 - val_top_3_accuracy: 0.8632\n",
      "Epoch 135/150\n",
      "2000/2000 [==============================] - 235s 117ms/step - loss: 1.1591 - categorical_crossentropy: 1.1591 - categorical_accuracy: 0.7205 - top_3_accuracy: 0.8692 - val_loss: 1.1960 - val_categorical_crossentropy: 1.1960 - val_categorical_accuracy: 0.7115 - val_top_3_accuracy: 0.8632\n",
      "Epoch 136/150\n",
      "2000/2000 [==============================] - 234s 117ms/step - loss: 1.1312 - categorical_crossentropy: 1.1312 - categorical_accuracy: 0.7266 - top_3_accuracy: 0.8733 - val_loss: 1.1960 - val_categorical_crossentropy: 1.1960 - val_categorical_accuracy: 0.7115 - val_top_3_accuracy: 0.8632\n",
      "Epoch 137/150\n",
      "2000/2000 [==============================] - 235s 117ms/step - loss: 1.1509 - categorical_crossentropy: 1.1509 - categorical_accuracy: 0.7215 - top_3_accuracy: 0.8702 - val_loss: 1.1960 - val_categorical_crossentropy: 1.1960 - val_categorical_accuracy: 0.7115 - val_top_3_accuracy: 0.8632\n",
      "Epoch 138/150\n",
      "2000/2000 [==============================] - ETA: 0s - loss: 1.1497 - categorical_crossentropy: 1.1497 - categorical_accuracy: 0.7223 - top_3_accuracy: 0.8702\n",
      "Epoch 00138: ReduceLROnPlateau reducing learning rate to 2.8242954138314303e-16.\n",
      "2000/2000 [==============================] - 234s 117ms/step - loss: 1.1497 - categorical_crossentropy: 1.1497 - categorical_accuracy: 0.7223 - top_3_accuracy: 0.8702 - val_loss: 1.1960 - val_categorical_crossentropy: 1.1960 - val_categorical_accuracy: 0.7115 - val_top_3_accuracy: 0.8632\n",
      "Epoch 139/150\n",
      "2000/2000 [==============================] - 234s 117ms/step - loss: 1.1671 - categorical_crossentropy: 1.1671 - categorical_accuracy: 0.7187 - top_3_accuracy: 0.8679 - val_loss: 1.1960 - val_categorical_crossentropy: 1.1960 - val_categorical_accuracy: 0.7115 - val_top_3_accuracy: 0.8632\n",
      "Epoch 140/150\n",
      "2000/2000 [==============================] - 234s 117ms/step - loss: 1.1368 - categorical_crossentropy: 1.1368 - categorical_accuracy: 0.7246 - top_3_accuracy: 0.8718 - val_loss: 1.1960 - val_categorical_crossentropy: 1.1960 - val_categorical_accuracy: 0.7115 - val_top_3_accuracy: 0.8632\n",
      "Epoch 141/150\n",
      "2000/2000 [==============================] - 235s 117ms/step - loss: 1.1490 - categorical_crossentropy: 1.1490 - categorical_accuracy: 0.7221 - top_3_accuracy: 0.8708 - val_loss: 1.1960 - val_categorical_crossentropy: 1.1960 - val_categorical_accuracy: 0.7115 - val_top_3_accuracy: 0.8632\n",
      "Epoch 142/150\n",
      "2000/2000 [==============================] - 234s 117ms/step - loss: 1.1463 - categorical_crossentropy: 1.1463 - categorical_accuracy: 0.7231 - top_3_accuracy: 0.8709 - val_loss: 1.1960 - val_categorical_crossentropy: 1.1960 - val_categorical_accuracy: 0.7115 - val_top_3_accuracy: 0.8632\n"
     ]
    },
    {
     "name": "stdout",
     "output_type": "stream",
     "text": [
      "Epoch 143/150\n",
      "2000/2000 [==============================] - ETA: 0s - loss: 1.1564 - categorical_crossentropy: 1.1564 - categorical_accuracy: 0.7212 - top_3_accuracy: 0.8693\n",
      "Epoch 00143: ReduceLROnPlateau reducing learning rate to 8.472885923856935e-17.\n",
      "2000/2000 [==============================] - 234s 117ms/step - loss: 1.1564 - categorical_crossentropy: 1.1564 - categorical_accuracy: 0.7212 - top_3_accuracy: 0.8693 - val_loss: 1.1960 - val_categorical_crossentropy: 1.1960 - val_categorical_accuracy: 0.7115 - val_top_3_accuracy: 0.8632\n",
      "Epoch 144/150\n",
      "2000/2000 [==============================] - 234s 117ms/step - loss: 1.1581 - categorical_crossentropy: 1.1581 - categorical_accuracy: 0.7199 - top_3_accuracy: 0.8692 - val_loss: 1.1960 - val_categorical_crossentropy: 1.1960 - val_categorical_accuracy: 0.7115 - val_top_3_accuracy: 0.8632\n",
      "Epoch 145/150\n",
      "2000/2000 [==============================] - 238s 119ms/step - loss: 1.1664 - categorical_crossentropy: 1.1664 - categorical_accuracy: 0.7187 - top_3_accuracy: 0.8680 - val_loss: 1.1960 - val_categorical_crossentropy: 1.1960 - val_categorical_accuracy: 0.7115 - val_top_3_accuracy: 0.8632\n",
      "Epoch 146/150\n",
      "2000/2000 [==============================] - 235s 117ms/step - loss: 1.1745 - categorical_crossentropy: 1.1745 - categorical_accuracy: 0.7168 - top_3_accuracy: 0.8668 - val_loss: 1.1960 - val_categorical_crossentropy: 1.1960 - val_categorical_accuracy: 0.7115 - val_top_3_accuracy: 0.8632\n",
      "Epoch 147/150\n",
      "2000/2000 [==============================] - 234s 117ms/step - loss: 1.1653 - categorical_crossentropy: 1.1653 - categorical_accuracy: 0.7186 - top_3_accuracy: 0.8683 - val_loss: 1.1960 - val_categorical_crossentropy: 1.1960 - val_categorical_accuracy: 0.7115 - val_top_3_accuracy: 0.8632\n",
      "Epoch 148/150\n",
      "2000/2000 [==============================] - ETA: 0s - loss: 1.1522 - categorical_crossentropy: 1.1522 - categorical_accuracy: 0.7217 - top_3_accuracy: 0.8702\n",
      "Epoch 00148: ReduceLROnPlateau reducing learning rate to 2.541865737452411e-17.\n",
      "2000/2000 [==============================] - 234s 117ms/step - loss: 1.1522 - categorical_crossentropy: 1.1522 - categorical_accuracy: 0.7217 - top_3_accuracy: 0.8702 - val_loss: 1.1960 - val_categorical_crossentropy: 1.1960 - val_categorical_accuracy: 0.7115 - val_top_3_accuracy: 0.8632\n",
      "Epoch 149/150\n",
      "2000/2000 [==============================] - 235s 118ms/step - loss: 1.1501 - categorical_crossentropy: 1.1501 - categorical_accuracy: 0.7223 - top_3_accuracy: 0.8703 - val_loss: 1.1960 - val_categorical_crossentropy: 1.1960 - val_categorical_accuracy: 0.7115 - val_top_3_accuracy: 0.8632\n",
      "Epoch 150/150\n",
      "2000/2000 [==============================] - 234s 117ms/step - loss: 1.1577 - categorical_crossentropy: 1.1577 - categorical_accuracy: 0.7209 - top_3_accuracy: 0.8695 - val_loss: 1.1960 - val_categorical_crossentropy: 1.1960 - val_categorical_accuracy: 0.7115 - val_top_3_accuracy: 0.8632\n"
     ]
    }
   ],
   "source": [
    "callbacks = [\n",
    "    ReduceLROnPlateau(monitor='val_top_3_accuracy', factor=0.3, patience=5,\n",
    "                      min_delta=0.005, mode='max', verbose=1),\n",
    "    ModelCheckpoint('CNN.h5', monitor='val_top_3_accuracy', mode='max', save_best_only=True, save_weights_only=True)\n",
    "]\n",
    "\n",
    "\n",
    "clf = model.fit(\n",
    "    train_datagen, steps_per_epoch=steps, epochs=epochs, verbose=1,\n",
    "    validation_data=(x_valid, y_valid),\n",
    "    callbacks = callbacks\n",
    ")"
   ]
  },
  {
   "cell_type": "code",
   "execution_count": 11,
   "metadata": {},
   "outputs": [],
   "source": [
    "def plot_graph(model, title):\n",
    "    plt.plot(model.history['categorical_accuracy'])\n",
    "    plt.plot(model.history['val_categorical_accuracy'])\n",
    "    plt.plot(model.history['top_3_accuracy'])\n",
    "    plt.plot(model.history['val_top_3_accuracy'])\n",
    "    plt.title('Accuracy ' + title)\n",
    "    plt.ylabel('Accuracy')\n",
    "    plt.xlabel('Epoch')\n",
    "    plt.legend(['Train', 'Validation', 'Test Top 3', 'Validation Top 3'], loc='lower right')\n",
    "    plt.show()\n",
    "    plt.plot(model.history['categorical_crossentropy'])\n",
    "    plt.plot(model.history['val_categorical_crossentropy'])\n",
    "    plt.title('Loss ' + title)\n",
    "    plt.ylabel('Loss')\n",
    "    plt.xlabel('Epoch')\n",
    "    plt.legend(['train', 'validation'], loc='lower right')\n",
    "    plt.show()"
   ]
  },
  {
   "cell_type": "code",
   "execution_count": 12,
   "metadata": {},
   "outputs": [
    {
     "data": {
      "image/png": "[encoded data removed]",
      "text/plain": [
       "<Figure size 432x288 with 1 Axes>"
      ]
     },
     "metadata": {
      "image/png": {
       "height": 277,
       "width": 385
      },
      "needs_background": "light"
     },
     "output_type": "display_data"
    },
    {
     "data": {
      "image/png": "[encoded data removed]",
      "text/plain": [
       "<Figure size 432x288 with 1 Axes>"
      ]
     },
     "metadata": {
      "image/png": {
       "height": 277,
       "width": 385
      },
      "needs_background": "light"
     },
     "output_type": "display_data"
    }
   ],
   "source": [
    "plot_graph(clf, \"Simple CNN\")"
   ]
  },
  {
   "cell_type": "markdown",
   "metadata": {},
   "source": [
    "# Turn in for Kaggle"
   ]
  },
  {
   "cell_type": "code",
   "execution_count": 13,
   "metadata": {},
   "outputs": [
    {
     "name": "stderr",
     "output_type": "stream",
     "text": [
      "\r",
      "0it [00:00, ?it/s]"
     ]
    },
    {
     "name": "stdout",
     "output_type": "stream",
     "text": [
      "313/313 [==============================] - 1s 2ms/step\n"
     ]
    },
    {
     "name": "stderr",
     "output_type": "stream",
     "text": [
      "\r",
      "1it [00:05,  5.90s/it]"
     ]
    },
    {
     "name": "stdout",
     "output_type": "stream",
     "text": [
      "313/313 [==============================] - 0s 2ms/step\n"
     ]
    },
    {
     "name": "stderr",
     "output_type": "stream",
     "text": [
      "\r",
      "2it [00:11,  5.92s/it]"
     ]
    },
    {
     "name": "stdout",
     "output_type": "stream",
     "text": [
      "313/313 [==============================] - 0s 2ms/step\n"
     ]
    },
    {
     "name": "stderr",
     "output_type": "stream",
     "text": [
      "\r",
      "3it [00:17,  5.89s/it]"
     ]
    },
    {
     "name": "stdout",
     "output_type": "stream",
     "text": [
      "313/313 [==============================] - 1s 2ms/step\n"
     ]
    },
    {
     "name": "stderr",
     "output_type": "stream",
     "text": [
      "\r",
      "4it [00:23,  5.91s/it]"
     ]
    },
    {
     "name": "stdout",
     "output_type": "stream",
     "text": [
      "313/313 [==============================] - 0s 2ms/step\n"
     ]
    },
    {
     "name": "stderr",
     "output_type": "stream",
     "text": [
      "\r",
      "5it [00:29,  5.92s/it]"
     ]
    },
    {
     "name": "stdout",
     "output_type": "stream",
     "text": [
      "313/313 [==============================] - 1s 2ms/step\n"
     ]
    },
    {
     "name": "stderr",
     "output_type": "stream",
     "text": [
      "\r",
      "6it [00:35,  5.88s/it]"
     ]
    },
    {
     "name": "stdout",
     "output_type": "stream",
     "text": [
      "313/313 [==============================] - 1s 2ms/step\n"
     ]
    },
    {
     "name": "stderr",
     "output_type": "stream",
     "text": [
      "\r",
      "7it [00:41,  5.88s/it]"
     ]
    },
    {
     "name": "stdout",
     "output_type": "stream",
     "text": [
      "313/313 [==============================] - 0s 2ms/step\n"
     ]
    },
    {
     "name": "stderr",
     "output_type": "stream",
     "text": [
      "\r",
      "8it [00:47,  5.89s/it]"
     ]
    },
    {
     "name": "stdout",
     "output_type": "stream",
     "text": [
      "313/313 [==============================] - 1s 2ms/step\n"
     ]
    },
    {
     "name": "stderr",
     "output_type": "stream",
     "text": [
      "\r",
      "9it [00:53,  5.91s/it]"
     ]
    },
    {
     "name": "stdout",
     "output_type": "stream",
     "text": [
      "313/313 [==============================] - 1s 2ms/step\n"
     ]
    },
    {
     "name": "stderr",
     "output_type": "stream",
     "text": [
      "\r",
      "10it [00:59,  5.92s/it]"
     ]
    },
    {
     "name": "stdout",
     "output_type": "stream",
     "text": [
      "313/313 [==============================] - 0s 2ms/step\n"
     ]
    },
    {
     "name": "stderr",
     "output_type": "stream",
     "text": [
      "\r",
      "11it [01:04,  5.90s/it]"
     ]
    },
    {
     "name": "stdout",
     "output_type": "stream",
     "text": [
      "69/69 [==============================] - 0s 2ms/step\n"
     ]
    },
    {
     "name": "stderr",
     "output_type": "stream",
     "text": [
      "12it [01:06,  5.53s/it]"
     ]
    },
    {
     "name": "stdout",
     "output_type": "stream",
     "text": [
      "Finished test predictions...\n",
      "Finished data prep...\n"
     ]
    },
    {
     "name": "stderr",
     "output_type": "stream",
     "text": [
      "\n"
     ]
    }
   ],
   "source": [
    "pred_results = []\n",
    "chunksize = 10000\n",
    "reader = pd.read_csv(input_Directory + 'test_simplified.csv', chunksize=chunksize)\n",
    "for chunk in tqdm(reader):\n",
    "    imgs = df_to_image_array(chunk)\n",
    "    pred = model.predict(imgs, verbose=1)\n",
    "    top_3 =  np.argsort(-pred)[:, 0:3]  \n",
    "    pred_results.append(top_3)\n",
    "print(\"Finished test predictions...\")\n",
    "\n",
    "#prepare data for saving\n",
    "classes_path = os.listdir(sub_Directory + 'train_simplified/')\n",
    "classes_path = sorted(classes_path, key=lambda s: s.lower())\n",
    "class_dict = {x[:-4].replace(\" \", \"_\"):i for i, x in enumerate(classes_path)}\n",
    "\n",
    "reverse_dict = {v: k for k, v in class_dict.items()}\n",
    "pred_results = np.concatenate(pred_results)\n",
    "print(\"Finished data prep...\")\n",
    "\n",
    "preds_df = pd.DataFrame({'first': pred_results[:,0], 'second': pred_results[:,1], 'third': pred_results[:,2]})\n",
    "preds_df = preds_df.replace(reverse_dict)"
   ]
  },
  {
   "cell_type": "code",
   "execution_count": 14,
   "metadata": {},
   "outputs": [
    {
     "data": {
      "text/html": [
       "<div>\n",
       "<style scoped>\n",
       "    .dataframe tbody tr th:only-of-type {\n",
       "        vertical-align: middle;\n",
       "    }\n",
       "\n",
       "    .dataframe tbody tr th {\n",
       "        vertical-align: top;\n",
       "    }\n",
       "\n",
       "    .dataframe thead th {\n",
       "        text-align: right;\n",
       "    }\n",
       "</style>\n",
       "<table border=\"1\" class=\"dataframe\">\n",
       "  <thead>\n",
       "    <tr style=\"text-align: right;\">\n",
       "      <th></th>\n",
       "      <th>word</th>\n",
       "    </tr>\n",
       "    <tr>\n",
       "      <th>key_id</th>\n",
       "      <th></th>\n",
       "    </tr>\n",
       "  </thead>\n",
       "  <tbody>\n",
       "    <tr>\n",
       "      <th>9000003627287624</th>\n",
       "      <td>radio stereo stove</td>\n",
       "    </tr>\n",
       "    <tr>\n",
       "      <th>9000010688666847</th>\n",
       "      <td>hockey_puck belt pool</td>\n",
       "    </tr>\n",
       "    <tr>\n",
       "      <th>9000023642890129</th>\n",
       "      <td>The_Great_Wall_of_China castle camel</td>\n",
       "    </tr>\n",
       "    <tr>\n",
       "      <th>9000038588854897</th>\n",
       "      <td>mountain tent The_Eiffel_Tower</td>\n",
       "    </tr>\n",
       "    <tr>\n",
       "      <th>9000052667981386</th>\n",
       "      <td>fireplace leaf campfire</td>\n",
       "    </tr>\n",
       "  </tbody>\n",
       "</table>\n",
       "</div>"
      ],
      "text/plain": [
       "                                                  word\n",
       "key_id                                                \n",
       "9000003627287624                    radio stereo stove\n",
       "9000010688666847                 hockey_puck belt pool\n",
       "9000023642890129  The_Great_Wall_of_China castle camel\n",
       "9000038588854897        mountain tent The_Eiffel_Tower\n",
       "9000052667981386               fireplace leaf campfire"
      ]
     },
     "execution_count": 14,
     "metadata": {},
     "output_type": "execute_result"
    }
   ],
   "source": [
    "preds_df['words'] = preds_df['first'] + \" \" + preds_df['second'] + \" \" + preds_df['third']\n",
    "\n",
    "sub = pd.read_csv(input_Directory + 'sample_submission.csv', index_col=['key_id'])\n",
    "sub['word'] = preds_df.words.values\n",
    "sub.to_csv('cnn.csv')\n",
    "sub.head()"
   ]
  }
 ],
 "metadata": {
  "kernelspec": {
   "display_name": "Python 3",
   "language": "python",
   "name": "python3"
  },
  "language_info": {
   "codemirror_mode": {
    "name": "ipython",
    "version": 3
   },
   "file_extension": ".py",
   "mimetype": "text/x-python",
   "name": "python",
   "nbconvert_exporter": "python",
   "pygments_lexer": "ipython3",
   "version": "3.7.9"
  }
 },
 "nbformat": 4,
 "nbformat_minor": 4
}
